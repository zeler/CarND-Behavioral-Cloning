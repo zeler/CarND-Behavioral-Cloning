{
 "cells": [
  {
   "cell_type": "markdown",
   "id": "588c4487",
   "metadata": {},
   "source": [
    "# Behavioral Cloning\n",
    "\n",
    "This notebook contains the implementation of CNN used for Behavioral cloning project."
   ]
  },
  {
   "cell_type": "code",
   "execution_count": 1,
   "id": "874d58b5",
   "metadata": {},
   "outputs": [],
   "source": [
    "import csv\n",
    "import cv2\n",
    "import numpy as np\n",
    "import os\n",
    "import sklearn\n",
    "from sklearn.utils import shuffle\n"
   ]
  },
  {
   "cell_type": "markdown",
   "id": "3c02ff17",
   "metadata": {},
   "source": [
    "Define a function for image augmenting."
   ]
  },
  {
   "cell_type": "code",
   "execution_count": 2,
   "id": "708c9232",
   "metadata": {},
   "outputs": [],
   "source": [
    "def process_image(img):\n",
    "    \n",
    "    return img, cv2.flip(img, 1)"
   ]
  },
  {
   "cell_type": "markdown",
   "id": "c36a7679",
   "metadata": {},
   "source": [
    "Iterate over driving log data:"
   ]
  },
  {
   "cell_type": "code",
   "execution_count": 3,
   "id": "f3e86e0b",
   "metadata": {},
   "outputs": [],
   "source": [
    "import os\n",
    "import csv\n",
    "\n",
    "samples = []\n",
    "with open('./data/driving_log.csv') as csvfile:\n",
    "    reader = csv.reader(csvfile)\n",
    "    for line in reader:\n",
    "        samples.append(line)\n"
   ]
  },
  {
   "cell_type": "markdown",
   "id": "c113b664",
   "metadata": {},
   "source": [
    "Split the samples into training and validation set:"
   ]
  },
  {
   "cell_type": "code",
   "execution_count": 4,
   "id": "831b583b",
   "metadata": {},
   "outputs": [],
   "source": [
    "from sklearn.model_selection import train_test_split\n",
    "\n",
    "train_samples, validation_samples = train_test_split(samples, test_size=0.2)"
   ]
  },
  {
   "cell_type": "markdown",
   "id": "6649d525",
   "metadata": {},
   "source": [
    "Define data generator. For each batch item, this will actually generate 6 distinct images:"
   ]
  },
  {
   "cell_type": "code",
   "execution_count": 5,
   "id": "3da9d93f",
   "metadata": {},
   "outputs": [],
   "source": [
    "correction = 0.2 # this is a parameter to tune\n",
    "\n",
    "def generator(samples, batch_size=32):\n",
    "    num_samples = len(samples)\n",
    "    while 1: # Loop forever so the generator never terminates\n",
    "        shuffle(samples)\n",
    "        for offset in range(0, num_samples, batch_size):\n",
    "            batch_samples = samples[offset:offset+batch_size]\n",
    "\n",
    "            images = []\n",
    "            angles = []\n",
    "            for batch_sample in batch_samples:\n",
    "                steering_c = float(batch_sample[3])        \n",
    "                steering_l = steering_c + correction\n",
    "                steering_r = steering_c - correction\n",
    "    \n",
    "                path = './data/IMG/' \n",
    "            \n",
    "                img_c, img_cf = process_image(cv2.imread(path + batch_sample[0].split('\\\\')[-1]))\n",
    "                img_l, img_lf = process_image(cv2.imread(path + batch_sample[1].split('\\\\')[-1]))\n",
    "                img_r, img_rf = process_image(cv2.imread(path + batch_sample[2].split('\\\\')[-1]))\n",
    "\n",
    "                images.extend([img_c, img_cf, img_l, img_lf, img_r, img_rf])\n",
    "                angles.extend([steering_c, -steering_c, steering_l, -steering_l, steering_r, -steering_r])\n",
    "\n",
    "            # trim image to only see section with road\n",
    "            X_train = np.array(images)\n",
    "            y_train = np.array(angles)\n",
    "            yield shuffle(X_train, y_train)"
   ]
  },
  {
   "cell_type": "markdown",
   "id": "fa32003f",
   "metadata": {},
   "source": [
    "Define train and validation generators:"
   ]
  },
  {
   "cell_type": "code",
   "execution_count": 6,
   "id": "0eca4aba",
   "metadata": {},
   "outputs": [],
   "source": [
    "# Set our batch size\n",
    "batch_size=8\n",
    "\n",
    "# compile and train the model using the generator function\n",
    "train_generator = generator(train_samples, batch_size=batch_size)\n",
    "validation_generator = generator(validation_samples, batch_size=batch_size)"
   ]
  },
  {
   "cell_type": "markdown",
   "id": "5d74ac26",
   "metadata": {},
   "source": [
    "Actual CNN implementation:"
   ]
  },
  {
   "cell_type": "code",
   "execution_count": 7,
   "id": "f339f599",
   "metadata": {},
   "outputs": [
    {
     "name": "stderr",
     "output_type": "stream",
     "text": [
      "Using TensorFlow backend.\n"
     ]
    },
    {
     "name": "stdout",
     "output_type": "stream",
     "text": [
      "WARNING:tensorflow:From C:\\PF\\Continuum\\anaconda3\\envs\\ml\\lib\\site-packages\\tensorflow_core\\python\\ops\\resource_variable_ops.py:1630: calling BaseResourceVariable.__init__ (from tensorflow.python.ops.resource_variable_ops) with constraint is deprecated and will be removed in a future version.\n",
      "Instructions for updating:\n",
      "If using Keras pass *_constraint arguments to layers.\n",
      "WARNING:tensorflow:From C:\\PF\\Continuum\\anaconda3\\envs\\ml\\lib\\site-packages\\keras\\backend\\tensorflow_backend.py:422: The name tf.global_variables is deprecated. Please use tf.compat.v1.global_variables instead.\n",
      "\n",
      "Epoch 1/150\n",
      "771/771 [==============================] - 70s 90ms/step - loss: 0.0421 - val_loss: 0.0184\n",
      "Epoch 2/150\n",
      "771/771 [==============================] - 67s 87ms/step - loss: 0.0340 - val_loss: 0.0159\n",
      "Epoch 3/150\n",
      "771/771 [==============================] - 68s 88ms/step - loss: 0.0321 - val_loss: 0.0137\n",
      "Epoch 4/150\n",
      "771/771 [==============================] - 69s 90ms/step - loss: 0.0311 - val_loss: 0.0123\n",
      "Epoch 5/150\n",
      "771/771 [==============================] - 69s 90ms/step - loss: 0.0304 - val_loss: 0.0118\n",
      "Epoch 6/150\n",
      "771/771 [==============================] - 69s 90ms/step - loss: 0.0298 - val_loss: 0.0123\n",
      "Epoch 7/150\n",
      "771/771 [==============================] - 69s 89ms/step - loss: 0.0292 - val_loss: 0.0128\n",
      "Epoch 8/150\n",
      "771/771 [==============================] - 69s 90ms/step - loss: 0.0288 - val_loss: 0.0119\n",
      "Epoch 9/150\n",
      "771/771 [==============================] - 69s 90ms/step - loss: 0.0282 - val_loss: 0.0129\n",
      "Epoch 10/150\n",
      "771/771 [==============================] - 69s 90ms/step - loss: 0.0275 - val_loss: 0.0119\n",
      "Epoch 11/150\n",
      "771/771 [==============================] - 72s 93ms/step - loss: 0.0273 - val_loss: 0.0130\n",
      "Epoch 12/150\n",
      "771/771 [==============================] - 75s 97ms/step - loss: 0.0265 - val_loss: 0.0127\n",
      "Epoch 13/150\n",
      "771/771 [==============================] - 77s 100ms/step - loss: 0.0259 - val_loss: 0.0151\n",
      "Epoch 14/150\n",
      "771/771 [==============================] - 77s 100ms/step - loss: 0.0252 - val_loss: 0.0190\n",
      "Epoch 15/150\n",
      "771/771 [==============================] - 76s 98ms/step - loss: 0.0247 - val_loss: 0.0168\n",
      "Epoch 16/150\n",
      "771/771 [==============================] - 76s 99ms/step - loss: 0.0237 - val_loss: 0.0183\n",
      "Epoch 17/150\n",
      "771/771 [==============================] - 77s 100ms/step - loss: 0.0229 - val_loss: 0.0169\n",
      "Epoch 18/150\n",
      "771/771 [==============================] - 77s 100ms/step - loss: 0.0226 - val_loss: 0.0197\n",
      "Epoch 19/150\n",
      "771/771 [==============================] - 80s 104ms/step - loss: 0.0215 - val_loss: 0.0185\n",
      "Epoch 20/150\n",
      "771/771 [==============================] - 82s 106ms/step - loss: 0.0210 - val_loss: 0.0186\n",
      "Epoch 00020: early stopping\n"
     ]
    }
   ],
   "source": [
    "from keras.models import Sequential\n",
    "from keras.layers import Flatten, Dense, Lambda, Conv2D, AveragePooling2D, Cropping2D, Dropout, BatchNormalization\n",
    "from keras.callbacks import EarlyStopping, ModelCheckpoint\n",
    "from keras.optimizers import Adam\n",
    "from tensorflow.keras import regularizers\n",
    "import tensorflow\n",
    "from math import ceil\n",
    "\n",
    "# dropout rate\n",
    "dropout_rate = 0.1\n",
    "\n",
    "model = Sequential()\n",
    "model.add(Cropping2D(cropping=((50,20), (0,0)), input_shape=(160,320,3)))\n",
    "model.add(Lambda(lambda x: (x / 255.0) - 0.5))\n",
    "model.add(Conv2D(filters=24, \n",
    "                 kernel_size=(5, 5), \n",
    "                 strides=(2,2), \n",
    "                 activation='relu',\n",
    "                 kernel_regularizer=regularizers.l2(1e-4)))\n",
    "model.add(Conv2D(filters=36, \n",
    "                 kernel_size=(5, 5), \n",
    "                 strides=(2,2), \n",
    "                 activation='relu',\n",
    "                 kernel_regularizer=regularizers.l2(1e-4)))\n",
    "model.add(Conv2D(filters=48, \n",
    "                 kernel_size=(5, 5), \n",
    "                 strides=(2,2), \n",
    "                 activation='relu',\n",
    "                 kernel_regularizer=regularizers.l2(1e-4)))\n",
    "model.add(Conv2D(filters=64, \n",
    "                 kernel_size=(3, 3), \n",
    "                 activation='relu',\n",
    "                 kernel_regularizer=regularizers.l2(1e-4)))\n",
    "model.add(Conv2D(filters=64, \n",
    "                 kernel_size=(3, 3), \n",
    "                 activation='relu',\n",
    "                 kernel_regularizer=regularizers.l2(1e-4)))\n",
    "model.add(Flatten())\n",
    "model.add(Dense(units=1164, activation='relu'))\n",
    "model.add(Dropout(dropout_rate))\n",
    "model.add(Dense(units=100, activation='relu'))\n",
    "model.add(Dropout(dropout_rate))\n",
    "model.add(Dense(units=50, activation='relu'))\n",
    "model.add(Dropout(dropout_rate))\n",
    "model.add(Dense(units=10, activation='relu'))\n",
    "model.add(Dropout(dropout_rate))\n",
    "model.add(Dense(1))\n",
    "\n",
    "\n",
    "early_stopping = EarlyStopping(monitor='val_loss', patience=15, verbose=1, mode='min')\n",
    "mcp_save = ModelCheckpoint(filepath='model.{epoch:02d}-{val_loss:.2f}.h5', save_best_only=True, monitor='val_loss', mode='min')\n",
    "opt = Adam(learning_rate=0.001)\n",
    "\n",
    "model.compile(loss='mse', optimizer=opt)\n",
    "history_object = model.fit_generator(train_generator, \n",
    "                                     steps_per_epoch=ceil(len(train_samples) / batch_size), \n",
    "                                     validation_data=validation_generator,\n",
    "                                     validation_steps=ceil(len(validation_samples) / batch_size), \n",
    "                                     epochs=150, \n",
    "                                     callbacks=[early_stopping, mcp_save],\n",
    "                                     verbose=1,\n",
    "                                     shuffle=True)\n",
    "\n",
    "model.save('model.h5')"
   ]
  },
  {
   "cell_type": "code",
   "execution_count": 8,
   "id": "29dc8d72",
   "metadata": {},
   "outputs": [
    {
     "name": "stdout",
     "output_type": "stream",
     "text": [
      "dict_keys(['val_loss', 'loss'])\n"
     ]
    },
    {
     "data": {
      "image/png": "[encoded data removed]",
      "text/plain": [
       "<Figure size 432x288 with 1 Axes>"
      ]
     },
     "metadata": {
      "needs_background": "light"
     },
     "output_type": "display_data"
    }
   ],
   "source": [
    "import matplotlib.pyplot as plt\n",
    "\n",
    "print(history_object.history.keys())\n",
    "\n",
    "### plot the training and validation loss for each epoch\n",
    "plt.plot(history_object.history['loss'])\n",
    "plt.plot(history_object.history['val_loss'])\n",
    "plt.title('model mean squared error loss')\n",
    "plt.ylabel('mean squared error loss')\n",
    "plt.xlabel('epoch')\n",
    "plt.legend(['training set', 'validation set'], loc='upper right')\n",
    "plt.show()"
   ]
  },
  {
   "cell_type": "code",
   "execution_count": null,
   "id": "d4baf47d",
   "metadata": {},
   "outputs": [],
   "source": []
  }
 ],
 "metadata": {
  "kernelspec": {
   "display_name": "Python 3",
   "language": "python",
   "name": "python3"
  },
  "language_info": {
   "codemirror_mode": {
    "name": "ipython",
    "version": 3
   },
   "file_extension": ".py",
   "mimetype": "text/x-python",
   "name": "python",
   "nbconvert_exporter": "python",
   "pygments_lexer": "ipython3",
   "version": "3.7.10"
  }
 },
 "nbformat": 4,
 "nbformat_minor": 5
}
